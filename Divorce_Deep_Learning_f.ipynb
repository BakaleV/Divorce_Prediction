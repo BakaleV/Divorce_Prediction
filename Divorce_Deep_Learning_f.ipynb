{
 "cells": [
  {
   "cell_type": "code",
   "execution_count": 1,
   "id": "d46cf0f6",
   "metadata": {},
   "outputs": [],
   "source": [
    "import numpy as np\n",
    "import tensorflow as tf"
   ]
  },
  {
   "cell_type": "code",
   "execution_count": 2,
   "id": "b7356ea4",
   "metadata": {},
   "outputs": [
    {
     "name": "stdout",
     "output_type": "stream",
     "text": [
      "(136, 54)\n",
      "(17, 54)\n",
      "(136,)\n",
      "(17,)\n",
      "[[2. 2. 4. ... 3. 2. 1.]\n",
      " [4. 4. 4. ... 4. 2. 2.]\n",
      " [2. 2. 2. ... 2. 2. 2.]\n",
      " ...\n",
      " [1. 2. 0. ... 2. 1. 0.]\n",
      " [1. 0. 1. ... 3. 2. 2.]\n",
      " [0. 0. 0. ... 3. 1. 1.]]\n"
     ]
    }
   ],
   "source": [
    "file = np.load('Divorce_data_train.npz')\n",
    "train_inputs_tf , train_targets_tf = file['inputs'].astype(float),file['targets'].astype(int)\n",
    "\n",
    "file = np.load('Divorce_data_validation.npz')\n",
    "validation_inputs_tf , validation_targets_tf = file['inputs'].astype(float),file['targets'].astype(int)\n",
    "\n",
    "file = np.load('Divorce_data_test.npz')\n",
    "test_inputs_tf , test_targets_tf = file['inputs'].astype(float),file['targets'].astype(int)\n",
    "#print(train_inputs_tf)\n",
    "print(train_inputs_tf.shape)\n",
    "print(validation_inputs_tf.shape)\n",
    "print(train_targets_tf.shape)\n",
    "print(validation_targets_tf.shape)\n",
    "print(train_inputs_tf)"
   ]
  },
  {
   "cell_type": "code",
   "execution_count": 11,
   "id": "129cb169",
   "metadata": {},
   "outputs": [
    {
     "name": "stdout",
     "output_type": "stream",
     "text": [
      "Epoch 1/4\n",
      "14/14 - 0s - loss: 0.4005 - accuracy: 0.6912 - val_loss: 0.3236 - val_accuracy: 1.0000 - 454ms/epoch - 32ms/step\n",
      "Epoch 2/4\n",
      "14/14 - 0s - loss: 0.0953 - accuracy: 0.9779 - val_loss: 0.0356 - val_accuracy: 1.0000 - 38ms/epoch - 3ms/step\n",
      "Epoch 3/4\n",
      "14/14 - 0s - loss: 0.0199 - accuracy: 1.0000 - val_loss: 0.0851 - val_accuracy: 0.9412 - 37ms/epoch - 3ms/step\n",
      "Epoch 4/4\n",
      "14/14 - 0s - loss: 0.0012 - accuracy: 1.0000 - val_loss: 0.0046 - val_accuracy: 1.0000 - 32ms/epoch - 2ms/step\n"
     ]
    },
    {
     "data": {
      "text/plain": [
       "<keras.callbacks.History at 0x18abf191310>"
      ]
     },
     "execution_count": 11,
     "metadata": {},
     "output_type": "execute_result"
    }
   ],
   "source": [
    "#model\n",
    "from keras import regularizers\n",
    "input_size = 54\n",
    "output_size = 2\n",
    "hidden_layer_size = 100\n",
    "\n",
    "\n",
    "model = tf.keras.Sequential([\n",
    "                            tf.keras.layers.Dense(hidden_layer_size,activation = 'relu'),\n",
    "                            tf.keras.layers.Dense(hidden_layer_size,activation = 'relu'),\n",
    "                            tf.keras.layers.Dense(hidden_layer_size,activation = 'relu'),\n",
    "                            tf.keras.layers.Dense(hidden_layer_size,activation = 'relu'),\n",
    "                            tf.keras.layers.Dense(hidden_layer_size,activation = 'relu'),\n",
    "                            tf.keras.layers.Dense(hidden_layer_size,activation = 'relu'),\n",
    "                            tf.keras.layers.Dense(output_size,activation = 'softmax')\n",
    "                            ])\n",
    "\n",
    "model.compile(optimizer = 'adam', loss = 'sparse_categorical_crossentropy',metrics = ['accuracy'])\n",
    "batch_size = 10\n",
    "max_epochs = 4\n",
    "early_stopping = tf.keras.callbacks.EarlyStopping(patience=2)\n",
    "\n",
    "\n",
    "model.fit(train_inputs_tf,\n",
    "          train_targets_tf,\n",
    "          batch_size = batch_size,\n",
    "          epochs = max_epochs,\n",
    "          callbacks = [early_stopping],\n",
    "          validation_data = (validation_inputs_tf , validation_targets_tf),\n",
    "          verbose = 2)"
   ]
  },
  {
   "cell_type": "code",
   "execution_count": 12,
   "id": "9ca79574",
   "metadata": {},
   "outputs": [
    {
     "name": "stdout",
     "output_type": "stream",
     "text": [
      "1/1 [==============================] - 0s 14ms/step - loss: 0.0250 - accuracy: 1.0000\n"
     ]
    }
   ],
   "source": [
    "test_loss, test_accuracy = model.evaluate(test_inputs_tf, test_targets_tf)"
   ]
  },
  {
   "cell_type": "code",
   "execution_count": 13,
   "id": "e543345c",
   "metadata": {},
   "outputs": [
    {
     "name": "stdout",
     "output_type": "stream",
     "text": [
      "\n",
      "Test loss: 0.03. Test accuracy: 100.00%\n"
     ]
    }
   ],
   "source": [
    "print('\\nTest loss: {0:.2f}. Test accuracy: {1:.2f}%'.format(test_loss, test_accuracy*100.))"
   ]
  },
  {
   "cell_type": "code",
   "execution_count": null,
   "id": "a56b1052",
   "metadata": {},
   "outputs": [],
   "source": []
  }
 ],
 "metadata": {
  "kernelspec": {
   "display_name": "Python 3 (ipykernel)",
   "language": "python",
   "name": "python3"
  },
  "language_info": {
   "codemirror_mode": {
    "name": "ipython",
    "version": 3
   },
   "file_extension": ".py",
   "mimetype": "text/x-python",
   "name": "python",
   "nbconvert_exporter": "python",
   "pygments_lexer": "ipython3",
   "version": "3.9.7"
  }
 },
 "nbformat": 4,
 "nbformat_minor": 5
}
